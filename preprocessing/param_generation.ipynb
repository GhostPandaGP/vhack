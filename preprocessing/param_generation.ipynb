{
  "nbformat": 4,
  "nbformat_minor": 0,
  "metadata": {
    "colab": {
      "name": "param_generation.ipynb",
      "provenance": []
    },
    "kernelspec": {
      "name": "python3",
      "display_name": "Python 3"
    }
  },
  "cells": [
    {
      "cell_type": "code",
      "metadata": {
        "id": "fzvsYuISf-ku",
        "colab_type": "code",
        "outputId": "7f904a38-0e9e-43eb-a61c-f17d36abcded",
        "colab": {
          "base_uri": "https://localhost:8080/",
          "height": 121
        }
      },
      "source": [
        "from google.colab import drive\n",
        "drive.mount('/content/drive')\n"
      ],
      "execution_count": 1,
      "outputs": [
        {
          "output_type": "stream",
          "text": [
            "Go to this URL in a browser: https://accounts.google.com/o/oauth2/auth?client_id=947318989803-6bn6qk8qdgf4n4g3pfee6491hc0brc4i.apps.googleusercontent.com&redirect_uri=urn%3aietf%3awg%3aoauth%3a2.0%3aoob&response_type=code&scope=email%20https%3a%2f%2fwww.googleapis.com%2fauth%2fdocs.test%20https%3a%2f%2fwww.googleapis.com%2fauth%2fdrive%20https%3a%2f%2fwww.googleapis.com%2fauth%2fdrive.photos.readonly%20https%3a%2f%2fwww.googleapis.com%2fauth%2fpeopleapi.readonly\n",
            "\n",
            "Enter your authorization code:\n",
            "··········\n",
            "Mounted at /content/drive\n"
          ],
          "name": "stdout"
        }
      ]
    },
    {
      "cell_type": "code",
      "metadata": {
        "id": "WsF5-9x2gvw0",
        "colab_type": "code",
        "colab": {}
      },
      "source": [
        "import random\n",
        "import os \n",
        "base = '/content/drive/My Drive'\n",
        "os.chdir(f'/content/drive/My Drive/generated_data/')"
      ],
      "execution_count": 0,
      "outputs": []
    },
    {
      "cell_type": "code",
      "metadata": {
        "id": "yY4ut6wGiLB0",
        "colab_type": "code",
        "outputId": "4c139c03-3f8f-44e8-bb68-e259f5f52bf1",
        "colab": {
          "base_uri": "https://localhost:8080/",
          "height": 84
        }
      },
      "source": [
        "!pip install schedule"
      ],
      "execution_count": 3,
      "outputs": [
        {
          "output_type": "stream",
          "text": [
            "Collecting schedule\n",
            "  Downloading https://files.pythonhosted.org/packages/57/22/3a709462eb02412bd1145f6e53604f36bba191e3e4e397bea4a718fec38c/schedule-0.6.0-py2.py3-none-any.whl\n",
            "Installing collected packages: schedule\n",
            "Successfully installed schedule-0.6.0\n"
          ],
          "name": "stdout"
        }
      ]
    },
    {
      "cell_type": "code",
      "metadata": {
        "id": "y6uDwqVL1o0M",
        "colab_type": "code",
        "colab": {}
      },
      "source": [
        "import schedule\n",
        "import time\n",
        "import datetime"
      ],
      "execution_count": 0,
      "outputs": []
    },
    {
      "cell_type": "code",
      "metadata": {
        "id": "31Mf34WrgQ0H",
        "colab_type": "code",
        "colab": {}
      },
      "source": [
        "start_value = [30, 40, 20000, 0.4, 0.5]"
      ],
      "execution_count": 0,
      "outputs": []
    },
    {
      "cell_type": "code",
      "metadata": {
        "id": "h7ntrPgUh8G2",
        "colab_type": "code",
        "colab": {}
      },
      "source": [
        "def generation(start_value=start_value):\n",
        "  t = datetime.datetime.now()\n",
        "  print(t)\n",
        "\n",
        "  ind = 0\n",
        "  param_list_int = ['temp_slot', 'temp_plat']\n",
        "  param_list_bigint = ['number_mac']\n",
        "  param_list_per = ['load_plat','cpu_utilization' ]\n",
        "\n",
        "  for i in param_list_int:\n",
        "    f = open(f'/content/drive/My Drive/generated_data/{i}.csv', 'a+')\n",
        "    tmp = start_value[ind] + random.randint(0, +10)\n",
        "    if tmp < 10:\n",
        "      tmp += random.randint(0, +10);\n",
        "    elif tmp > 90:\n",
        "      tmp -= random.randint( +10)\n",
        "    f.writelines(str(t) + ';' + str(tmp)+'\\n')\n",
        "    f.close()\n",
        "    ind += 1\n",
        "\n",
        "  for i in param_list_bigint:\n",
        "    f = open(f'/content/drive/My Drive/generated_data/{i}.csv', 'a+')\n",
        "    tmp = start_value[ind] + 10000 * random.random()\n",
        "    if tmp < 1000:\n",
        "      tmp += random.randint(0, +1000);\n",
        "    elif tmp > 10000000:\n",
        "      tmp -= random.randint(0, -100000)\n",
        "    f.writelines(str(t) + ';' + str(tmp)+'\\n')\n",
        "    f.close()\n",
        "    ind += 1\n",
        "\n",
        "  for i in param_list_per:\n",
        "    f = open(f'/content/drive/My Drive/generated_data/{i}.csv', 'a+')\n",
        "    tmp = start_value[ind] + 5 * random.uniform(-0.03, 0.03)\n",
        "    if tmp < 0.03:\n",
        "      tmp += 0.01\n",
        "    elif tmp > 0.99:\n",
        "      tmp -= 0.01\n",
        "    f.writelines(str(t) + ';' + str(tmp)+'\\n')\n",
        "    f.close()\n"
      ],
      "execution_count": 0,
      "outputs": []
    },
    {
      "cell_type": "code",
      "metadata": {
        "id": "pJv-IVuv3Dob",
        "colab_type": "code",
        "outputId": "4d560ace-dc44-4901-8c7d-bca9617f4090",
        "colab": {
          "base_uri": "https://localhost:8080/",
          "height": 34
        }
      },
      "source": [
        "schedule.every(1).minutes.do(generation)\n"
      ],
      "execution_count": 7,
      "outputs": [
        {
          "output_type": "execute_result",
          "data": {
            "text/plain": [
              "Every 1 minute do generation() (last run: [never], next run: 2020-05-05 04:54:09)"
            ]
          },
          "metadata": {
            "tags": []
          },
          "execution_count": 7
        }
      ]
    },
    {
      "cell_type": "code",
      "metadata": {
        "id": "pVUKfr5Z2_sk",
        "colab_type": "code",
        "outputId": "5fa6d5df-f0fc-4ac0-da94-62bdd3656aba",
        "colab": {
          "base_uri": "https://localhost:8080/",
          "height": 521
        }
      },
      "source": [
        "while True:\n",
        "    schedule.run_pending()\n",
        "    time.sleep(1)"
      ],
      "execution_count": 0,
      "outputs": [
        {
          "output_type": "stream",
          "text": [
            "2020-05-05 04:54:09.658217\n",
            "2020-05-05 04:55:10.879467\n",
            "2020-05-05 04:56:10.960734\n",
            "2020-05-05 04:57:11.062594\n",
            "2020-05-05 04:58:11.145165\n",
            "2020-05-05 04:59:11.229882\n",
            "2020-05-05 05:00:11.311659\n",
            "2020-05-05 05:01:11.410282\n",
            "2020-05-05 05:02:11.491310\n",
            "2020-05-05 05:03:11.573193\n",
            "2020-05-05 05:04:11.653778\n",
            "2020-05-05 05:05:11.735652\n",
            "2020-05-05 05:06:11.817463\n",
            "2020-05-05 05:07:11.897355\n",
            "2020-05-05 05:08:11.977235\n",
            "2020-05-05 05:09:12.058607\n",
            "2020-05-05 05:10:12.148577\n",
            "2020-05-05 05:11:12.232666\n",
            "2020-05-05 05:12:12.315835\n",
            "2020-05-05 05:13:12.397920\n",
            "2020-05-05 05:14:12.492021\n",
            "2020-05-05 05:15:12.574290\n",
            "2020-05-05 05:16:12.655612\n",
            "2020-05-05 05:17:12.738431\n",
            "2020-05-05 05:18:12.821210\n",
            "2020-05-05 05:19:12.904603\n",
            "2020-05-05 05:20:12.985051\n",
            "2020-05-05 05:21:13.071080\n",
            "2020-05-05 05:22:13.154106\n",
            "2020-05-05 05:23:13.248457\n"
          ],
          "name": "stdout"
        }
      ]
    }
  ]
}
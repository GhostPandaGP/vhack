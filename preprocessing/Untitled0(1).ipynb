{
  "nbformat": 4,
  "nbformat_minor": 0,
  "metadata": {
    "colab": {
      "name": "Untitled0.ipynb",
      "provenance": []
    },
    "kernelspec": {
      "name": "python3",
      "display_name": "Python 3"
    }
  },
  "cells": [
    {
      "cell_type": "code",
      "metadata": {
        "id": "F3JdaB_MGvUd",
        "colab_type": "code",
        "colab": {}
      },
      "source": [
        "import pandas as pd\n",
        "import schedule\n",
        "import time"
      ],
      "execution_count": 0,
      "outputs": []
    },
    {
      "cell_type": "code",
      "metadata": {
        "id": "suZuznUAQYFD",
        "colab_type": "code",
        "outputId": "0e9fd3a3-f7f1-4a0c-fd2d-11fc9c6725ce",
        "colab": {
          "base_uri": "https://localhost:8080/",
          "height": 34
        }
      },
      "source": [
        "!pip install schedule"
      ],
      "execution_count": 6,
      "outputs": [
        {
          "output_type": "stream",
          "text": [
            "Requirement already satisfied: schedule in /usr/local/lib/python3.6/dist-packages (0.6.0)\n"
          ],
          "name": "stdout"
        }
      ]
    },
    {
      "cell_type": "code",
      "metadata": {
        "id": "XAHpD3Z_K2HK",
        "colab_type": "code",
        "colab": {}
      },
      "source": [
        "df = pd.DataFrame(data, columns=['commutator', 'mistake', 'forecast_time'])\n",
        "commutator = [raise]"
      ],
      "execution_count": 0,
      "outputs": []
    },
    {
      "cell_type": "code",
      "metadata": {
        "id": "ku--qg79LJVE",
        "colab_type": "code",
        "colab": {}
      },
      "source": [
        "def total_df():\n",
        "  df1 = pd.read_csv('/content/drive/My Drive/generated_data/cpu_utilization.csv', sep=';', header=None)\n",
        "  df1.columns = ['time', 'res']\n",
        "  df3 = pd.read_csv('/content/drive/My Drive/generated_data/load_plat.csv', sep=';', header=None)\n",
        "  df3.columns = ['time', 'res']\n",
        "  df4 = pd.read_csv('/content/drive/My Drive/generated_data/number_mac.csv', sep=';', header=None)\n",
        "  df4.columns = ['time', 'res']\n",
        "  df5 = pd.read_csv('/content/drive/My Drive/generated_data/temp_plat.csv', sep=';', header=None)\n",
        "  df5.columns = ['time', 'res']\n",
        "  df2 = pd.read_csv('/content/drive/My Drive/generated_data/temp_slot.csv', sep=';', header=None)\n",
        "  df2.columns = ['time', 'res']\n",
        "\n",
        "  tmp = pd.concat([df1.time, df1.res, df2.res, df3.res, df4.res, df5.res], axis=1, sort=False)\n",
        "  df = pd.DataFrame(tmp)\n",
        "  df.columns = ['time', 'cpu_utilization',  'temp_slot', 'load_plat', 'number_mac','temp_plat']\n",
        "  df['comm'] = 'raisecom'\n",
        "\n",
        "  df.to_csv('/content/drive/My Drive/generated_data/commutators_san.csv')"
      ],
      "execution_count": 0,
      "outputs": []
    },
    {
      "cell_type": "code",
      "metadata": {
        "id": "pN1bLtY8RFpS",
        "colab_type": "code",
        "colab": {}
      },
      "source": [
        "def analys(path):\n",
        "  df = pd.read_csv('/content/drive/My Drive/generated_data/commutators_san.csv')\n",
        "  df.columns = ['ind', 'time', 'cpu_utilization',  'temp_slot', 'load_plat', 'number_mac','temp_plat', 'commut']\n",
        "  df['status'] = '0'\n",
        "\n",
        "  for ind, row in df.iterrows():\n",
        "    if (row.temp_slot > 60 and row.temp_slot < 80) or  (row.temp_plat > 60 and row.temp_plat < 80) or  (row.cpu_utilization > 0.65 and row.cpu_utilization < 0.8) or (row.load_plat > 0.65 and row.load_plat < 0.8):\n",
        "      df.iloc[ind, 8] = 1\n",
        "\n",
        "    elif (row.temp_slot >= 80) or (row.temp_plat >= 80) or (row.cpu_utilization >= 0.8) or (row.load_plat >= 0.8) or (row.number_mac >= 10000000) :\n",
        "      df.iloc[ind, 8] = 2\n",
        "\n",
        "    else:\n",
        "      df.iloc[ind, 8] = 0\n",
        "  \n",
        "  return df\n"
      ],
      "execution_count": 0,
      "outputs": []
    },
    {
      "cell_type": "code",
      "metadata": {
        "id": "9HP_3IdULy0T",
        "colab_type": "code",
        "colab": {
          "base_uri": "https://localhost:8080/",
          "height": 402
        },
        "outputId": "27d34018-7092-42ee-fa13-c20ba463940f"
      },
      "source": [
        "analys('/content/drive/My Drive/generated_data/commutators_san.csv')"
      ],
      "execution_count": 29,
      "outputs": [
        {
          "output_type": "execute_result",
          "data": {
            "text/html": [
              "<div>\n",
              "<style scoped>\n",
              "    .dataframe tbody tr th:only-of-type {\n",
              "        vertical-align: middle;\n",
              "    }\n",
              "\n",
              "    .dataframe tbody tr th {\n",
              "        vertical-align: top;\n",
              "    }\n",
              "\n",
              "    .dataframe thead th {\n",
              "        text-align: right;\n",
              "    }\n",
              "</style>\n",
              "<table border=\"1\" class=\"dataframe\">\n",
              "  <thead>\n",
              "    <tr style=\"text-align: right;\">\n",
              "      <th></th>\n",
              "      <th>ind</th>\n",
              "      <th>time</th>\n",
              "      <th>cpu_utilization</th>\n",
              "      <th>temp_slot</th>\n",
              "      <th>load_plat</th>\n",
              "      <th>number_mac</th>\n",
              "      <th>temp_plat</th>\n",
              "      <th>commut</th>\n",
              "      <th>status</th>\n",
              "    </tr>\n",
              "  </thead>\n",
              "  <tbody>\n",
              "    <tr>\n",
              "      <th>0</th>\n",
              "      <td>0</td>\n",
              "      <td>2020-05-04 22:11:51.753338</td>\n",
              "      <td>0.475475</td>\n",
              "      <td>39</td>\n",
              "      <td>0.317820</td>\n",
              "      <td>25673.139044</td>\n",
              "      <td>50</td>\n",
              "      <td>raisecom</td>\n",
              "      <td>0</td>\n",
              "    </tr>\n",
              "    <tr>\n",
              "      <th>1</th>\n",
              "      <td>1</td>\n",
              "      <td>2020-05-04 22:12:51.837587</td>\n",
              "      <td>0.436831</td>\n",
              "      <td>37</td>\n",
              "      <td>0.325572</td>\n",
              "      <td>22065.438882</td>\n",
              "      <td>36</td>\n",
              "      <td>raisecom</td>\n",
              "      <td>0</td>\n",
              "    </tr>\n",
              "    <tr>\n",
              "      <th>2</th>\n",
              "      <td>2</td>\n",
              "      <td>2020-05-04 22:13:51.934030</td>\n",
              "      <td>0.529502</td>\n",
              "      <td>37</td>\n",
              "      <td>0.412451</td>\n",
              "      <td>23863.362930</td>\n",
              "      <td>36</td>\n",
              "      <td>raisecom</td>\n",
              "      <td>0</td>\n",
              "    </tr>\n",
              "    <tr>\n",
              "      <th>3</th>\n",
              "      <td>3</td>\n",
              "      <td>2020-05-04 22:14:52.012868</td>\n",
              "      <td>0.509984</td>\n",
              "      <td>32</td>\n",
              "      <td>0.379637</td>\n",
              "      <td>27633.264217</td>\n",
              "      <td>38</td>\n",
              "      <td>raisecom</td>\n",
              "      <td>0</td>\n",
              "    </tr>\n",
              "    <tr>\n",
              "      <th>4</th>\n",
              "      <td>4</td>\n",
              "      <td>2020-05-04 22:15:52.091449</td>\n",
              "      <td>0.278941</td>\n",
              "      <td>22</td>\n",
              "      <td>0.526039</td>\n",
              "      <td>21350.338478</td>\n",
              "      <td>36</td>\n",
              "      <td>raisecom</td>\n",
              "      <td>0</td>\n",
              "    </tr>\n",
              "    <tr>\n",
              "      <th>...</th>\n",
              "      <td>...</td>\n",
              "      <td>...</td>\n",
              "      <td>...</td>\n",
              "      <td>...</td>\n",
              "      <td>...</td>\n",
              "      <td>...</td>\n",
              "      <td>...</td>\n",
              "      <td>...</td>\n",
              "      <td>...</td>\n",
              "    </tr>\n",
              "    <tr>\n",
              "      <th>368</th>\n",
              "      <td>368</td>\n",
              "      <td>2020-05-05 04:21:51.614511</td>\n",
              "      <td>0.277910</td>\n",
              "      <td>35</td>\n",
              "      <td>0.376546</td>\n",
              "      <td>23362.589166</td>\n",
              "      <td>47</td>\n",
              "      <td>raisecom</td>\n",
              "      <td>0</td>\n",
              "    </tr>\n",
              "    <tr>\n",
              "      <th>369</th>\n",
              "      <td>369</td>\n",
              "      <td>2020-05-05 04:22:51.695593</td>\n",
              "      <td>0.428787</td>\n",
              "      <td>39</td>\n",
              "      <td>0.529125</td>\n",
              "      <td>24876.717945</td>\n",
              "      <td>48</td>\n",
              "      <td>raisecom</td>\n",
              "      <td>0</td>\n",
              "    </tr>\n",
              "    <tr>\n",
              "      <th>370</th>\n",
              "      <td>370</td>\n",
              "      <td>2020-05-05 04:23:51.777105</td>\n",
              "      <td>0.512599</td>\n",
              "      <td>40</td>\n",
              "      <td>0.298663</td>\n",
              "      <td>28449.966190</td>\n",
              "      <td>42</td>\n",
              "      <td>raisecom</td>\n",
              "      <td>0</td>\n",
              "    </tr>\n",
              "    <tr>\n",
              "      <th>371</th>\n",
              "      <td>371</td>\n",
              "      <td>2020-05-05 04:24:51.858190</td>\n",
              "      <td>0.408566</td>\n",
              "      <td>35</td>\n",
              "      <td>0.280782</td>\n",
              "      <td>29445.897499</td>\n",
              "      <td>45</td>\n",
              "      <td>raisecom</td>\n",
              "      <td>0</td>\n",
              "    </tr>\n",
              "    <tr>\n",
              "      <th>372</th>\n",
              "      <td>372</td>\n",
              "      <td>2020-05-05 04:25:51.952467</td>\n",
              "      <td>0.321262</td>\n",
              "      <td>39</td>\n",
              "      <td>0.288588</td>\n",
              "      <td>28286.806850</td>\n",
              "      <td>46</td>\n",
              "      <td>raisecom</td>\n",
              "      <td>0</td>\n",
              "    </tr>\n",
              "  </tbody>\n",
              "</table>\n",
              "<p>373 rows × 9 columns</p>\n",
              "</div>"
            ],
            "text/plain": [
              "     ind                        time  ...    commut  status\n",
              "0      0  2020-05-04 22:11:51.753338  ...  raisecom       0\n",
              "1      1  2020-05-04 22:12:51.837587  ...  raisecom       0\n",
              "2      2  2020-05-04 22:13:51.934030  ...  raisecom       0\n",
              "3      3  2020-05-04 22:14:52.012868  ...  raisecom       0\n",
              "4      4  2020-05-04 22:15:52.091449  ...  raisecom       0\n",
              "..   ...                         ...  ...       ...     ...\n",
              "368  368  2020-05-05 04:21:51.614511  ...  raisecom       0\n",
              "369  369  2020-05-05 04:22:51.695593  ...  raisecom       0\n",
              "370  370  2020-05-05 04:23:51.777105  ...  raisecom       0\n",
              "371  371  2020-05-05 04:24:51.858190  ...  raisecom       0\n",
              "372  372  2020-05-05 04:25:51.952467  ...  raisecom       0\n",
              "\n",
              "[373 rows x 9 columns]"
            ]
          },
          "metadata": {
            "tags": []
          },
          "execution_count": 29
        }
      ]
    },
    {
      "cell_type": "code",
      "metadata": {
        "id": "QtX6K5yLOtPi",
        "colab_type": "code",
        "colab": {}
      },
      "source": [
        "schedule.every(1).minutes.do(total_df)\n",
        "while True:\n",
        "    schedule.run_pending()\n",
        "    time.sleep(1)"
      ],
      "execution_count": 0,
      "outputs": []
    },
    {
      "cell_type": "code",
      "metadata": {
        "id": "YezxcBicL6Ts",
        "colab_type": "code",
        "colab": {}
      },
      "source": [
        ""
      ],
      "execution_count": 0,
      "outputs": []
    },
    {
      "cell_type": "code",
      "metadata": {
        "id": "m-7Uum59Odhx",
        "colab_type": "code",
        "colab": {}
      },
      "source": [
        "df.head()"
      ],
      "execution_count": 0,
      "outputs": []
    },
    {
      "cell_type": "code",
      "metadata": {
        "id": "sCZDPQwgMHco",
        "colab_type": "code",
        "colab": {}
      },
      "source": [
        "df1 = pd.read_csv('/content/drive/My Drive/generated_data/cpu_utilization.csv', sep=';', header=None)\n",
        "df1.columns = ['time', 'res']\n",
        "df3 = pd.read_csv('/content/drive/My Drive/generated_data/load_plat.csv', sep=';', header=None)\n",
        "df3.columns = ['time', 'res']\n",
        "df4 = pd.read_csv('/content/drive/My Drive/generated_data/number_mac.csv', sep=';', header=None)\n",
        "df4.columns = ['time', 'res']\n",
        "df5 = pd.read_csv('/content/drive/My Drive/generated_data/temp_plat.csv', sep=';', header=None)\n",
        "df5.columns = ['time', 'res']\n",
        "df2 = pd.read_csv('/content/drive/My Drive/generated_data/temp_slot.csv', sep=';', header=None)\n",
        "df2.columns = ['time', 'res']"
      ],
      "execution_count": 0,
      "outputs": []
    },
    {
      "cell_type": "code",
      "metadata": {
        "id": "g_yz4hR0MJYF",
        "colab_type": "code",
        "colab": {}
      },
      "source": [
        "df1.head()"
      ],
      "execution_count": 0,
      "outputs": []
    }
  ]
}